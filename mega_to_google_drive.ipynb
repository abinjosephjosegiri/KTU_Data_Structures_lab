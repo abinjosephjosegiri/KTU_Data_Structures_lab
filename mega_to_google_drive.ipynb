{
  "nbformat": 4,
  "nbformat_minor": 0,
  "metadata": {
    "colab": {
      "name": "mega to google drive.ipynb",
      "provenance": [],
      "include_colab_link": true
    },
    "kernelspec": {
      "name": "python3",
      "display_name": "Python 3"
    }
  },
  "cells": [
    {
      "cell_type": "markdown",
      "metadata": {
        "id": "view-in-github",
        "colab_type": "text"
      },
      "source": [
        "<a href=\"https://colab.research.google.com/github/messenger-1012/KTU_Data_Structures_lab/blob/master/mega_to_google_drive.ipynb\" target=\"_parent\"><img src=\"https://colab.research.google.com/assets/colab-badge.svg\" alt=\"Open In Colab\"/></a>"
      ]
    },
    {
      "cell_type": "markdown",
      "metadata": {
        "id": "WH2iYFFLgvHo",
        "colab_type": "text"
      },
      "source": [
        "# **mega to google drive **\n",
        "credit:messenger_1012"
      ]
    },
    {
      "cell_type": "markdown",
      "metadata": {
        "id": "O0CsgvZQZvw3",
        "colab_type": "text"
      },
      "source": [
        "# run the first  piece of code only one time "
      ]
    },
    {
      "cell_type": "code",
      "metadata": {
        "id": "442VNhwZ8LEQ",
        "colab_type": "code",
        "colab": {}
      },
      "source": [
        "%cd /content\n",
        "!git clone https://github.com/jeroenmeulenaar/python3-mega.git\n",
        "!pip install -r python3-mega/requirements.txt\n"
      ],
      "execution_count": 0,
      "outputs": []
    },
    {
      "cell_type": "markdown",
      "metadata": {
        "id": "2ygrBzqcby3J",
        "colab_type": "text"
      },
      "source": [
        "**`mount the drive`**\n",
        "goto the given link to get access code:https://accounts.google.com/o/oauth2/auth?client_id=947318989803-6bn6qk8qdgf4n4g3pfee6491hc0brc4i.apps.googleusercontent.com&redirect_uri=urn%3aietf%3awg%3aoauth%3a2.0%3aoob&response_type=code&scope=email%20https%3a%2f%2fwww.googleapis.com%2fauth%2fdocs.test%20https%3a%2f%2fwww.googleapis.com%2fauth%2fdrive%20https%3a%2f%2fwww.googleapis.com%2fauth%2fdrive.photos.readonly%20https%3a%2f%2fwww.googleapis.com%2fauth%2fpeopleapi.readonly you can revoke this after if u want"
      ]
    },
    {
      "cell_type": "code",
      "metadata": {
        "id": "DS2fyo1cZ_b9",
        "colab_type": "code",
        "colab": {}
      },
      "source": [
        "from google.colab import drive\n",
        "drive.mount('/content/drive')"
      ],
      "execution_count": 0,
      "outputs": []
    },
    {
      "cell_type": "code",
      "metadata": {
        "id": "feOVe3yGcqjg",
        "colab_type": "code",
        "colab": {}
      },
      "source": [
        "x=input(\"enter the mega link to download \");"
      ],
      "execution_count": 0,
      "outputs": []
    },
    {
      "cell_type": "markdown",
      "metadata": {
        "id": "vMRcYW7JggDB",
        "colab_type": "text"
      },
      "source": [
        "run this code until it prints download completed successfully"
      ]
    },
    {
      "cell_type": "code",
      "metadata": {
        "colab_type": "code",
        "id": "g-QJpMHTJGGR",
        "colab": {}
      },
      "source": [
        "\n",
        "import os\n",
        "os.chdir('/content/python3-mega')\n",
        "from mega import Mega\n",
        "os.chdir('/content/drive/My Drive')\n",
        "m = Mega.from_ephemeral()\n",
        "m.download_from_url(x);\n",
        "%cd /content;\n",
        "printf(\"download completed successfully\");"
      ],
      "execution_count": 0,
      "outputs": []
    }
  ]
}